{
 "cells": [
  {
   "metadata": {
    "ExecuteTime": {
     "end_time": "2025-04-23T11:09:10.261473Z",
     "start_time": "2025-04-23T11:09:10.161318Z"
    }
   },
   "cell_type": "code",
   "source": [
    "import numpy as np\n",
    "#import jax.numpy as jnp\n",
    "data = np.loadtxt(\"/var/home/luka/proj/Papilonidae_dataset_v2/Papilionidae_aligned_new.txt\", delimiter=\"\\t\").reshape((2240, 200))\n"
   ],
   "id": "ddfd97aade95b2d5",
   "outputs": [],
   "execution_count": 9
  },
  {
   "metadata": {
    "ExecuteTime": {
     "end_time": "2025-04-23T11:09:10.520354Z",
     "start_time": "2025-04-23T11:09:10.264772Z"
    }
   },
   "cell_type": "code",
   "source": [
    "from ete3 import Tree\n",
    "# Load the tree and get the leaf order in inorder traversal\n",
    "ptree = Tree(\"/var/home/luka/proj/Papilonidae_dataset_v2/papilionidae_tree.txt\", format=1)\n",
    "order = ptree.get_leaf_names()  # returns in-order leaves (same as pre-order when just looking at leaves)\n"
   ],
   "id": "acb7031feb6bd6ff",
   "outputs": [],
   "execution_count": 10
  },
  {
   "metadata": {
    "ExecuteTime": {
     "end_time": "2025-04-23T11:09:10.683472Z",
     "start_time": "2025-04-23T11:09:10.536744Z"
    }
   },
   "cell_type": "code",
   "source": [
    "import pandas as pd\n",
    "\n",
    "# Load categories\n",
    "categories = pd.read_csv(\"/var/home/luka/proj/Papilonidae_dataset_v2/Papilonidae_metadata_new.txt\", header=None)[0]\n",
    "\n",
    "# Create DataFrame from data\n",
    "df = pd.DataFrame(data.reshape(2240, -1))\n",
    "df['category'] = pd.Categorical(categories, categories=categories.unique())\n",
    "\n",
    "# Group by category and calculate means\n",
    "means = df.groupby('category', observed=True).mean()\n",
    "\n",
    "# Add order column based on the tree order\n",
    "df['order'] = pd.Categorical(df['category'], categories=order, ordered=True)\n",
    "\n",
    "\n",
    "# Reorder means DataFrame based on the order column\n",
    "means = means.reset_index()\n",
    "means['order'] = pd.Categorical(means['category'], categories=order, ordered=True)\n",
    "means = means.sort_values('order')\n",
    "\n",
    "# Drop unnecessary columns and convert to numpy array\n",
    "X = means.drop(columns=['category', 'order']).values\n",
    "\n",
    "N, d = X.shape"
   ],
   "id": "861d20ed5f7a6e4f",
   "outputs": [],
   "execution_count": 11
  },
  {
   "metadata": {
    "ExecuteTime": {
     "end_time": "2025-04-23T11:09:10.715334Z",
     "start_time": "2025-04-23T11:09:10.703217Z"
    }
   },
   "cell_type": "code",
   "source": [
    "D = np.zeros((N*d, d))\n",
    "\n",
    "# Create an array of indices\n",
    "i_indices = np.arange(N*d)\n",
    "j_indices = np.arange(d)\n",
    "\n",
    "# Use broadcasting to create a mask\n",
    "mask = (j_indices[:, None] * N <= i_indices) & (i_indices < (j_indices[:, None] + 1) * N)\n",
    "D[mask.T] = 1.0"
   ],
   "id": "2485c24a05e161bf",
   "outputs": [],
   "execution_count": 12
  },
  {
   "metadata": {
    "ExecuteTime": {
     "end_time": "2025-04-23T11:20:20.098661Z",
     "start_time": "2025-04-23T11:20:20.086920Z"
    }
   },
   "cell_type": "code",
   "source": "{}['name']",
   "id": "58225f8a2ca1d79d",
   "outputs": [
    {
     "ename": "KeyError",
     "evalue": "'name'",
     "output_type": "error",
     "traceback": [
      "\u001B[0;31m---------------------------------------------------------------------------\u001B[0m",
      "\u001B[0;31mKeyError\u001B[0m                                  Traceback (most recent call last)",
      "Cell \u001B[0;32mIn[15], line 1\u001B[0m\n\u001B[0;32m----> 1\u001B[0m {}[\u001B[38;5;124m'\u001B[39m\u001B[38;5;124mname\u001B[39m\u001B[38;5;124m'\u001B[39m]\n",
      "\u001B[0;31mKeyError\u001B[0m: 'name'"
     ]
    }
   ],
   "execution_count": 15
  },
  {
   "metadata": {
    "ExecuteTime": {
     "end_time": "2025-04-23T11:09:54.211039Z",
     "start_time": "2025-04-23T11:09:54.206571Z"
    }
   },
   "cell_type": "code",
   "source": [
    "preorder = [n for n in ptree.traverse(\"preorder\")]\n",
    "\n",
    "for n in preorder:\n",
    "    print(f'{n.name:<35}{n.dist}')"
   ],
   "id": "73090eba298f2697",
   "outputs": [
    {
     "name": "stdout",
     "output_type": "stream",
     "text": [
      "QS1803                             0.0\n",
      "Baronia_brevicornis                0.1711\n",
      "QS1804                             0.04527\n",
      "QS1807                             0.0653\n",
      "Iphiclides_podalirius              0.08472\n",
      "QS1808                             0.01315\n",
      "QS1810                             0.06096\n",
      "Graphium_evemon                    0.06883\n",
      "QS1811                             0.01369\n",
      "Graphium_sarpedon                  0.05466\n",
      "Graphium_agamemnon                 0.05188\n",
      "Protographium_marcellus            0.09227\n",
      "QS1818                             0.02038\n",
      "QS1819                             0.02572\n",
      "QS1820                             0.06041\n",
      "Hypermnestra_helios                0.04444\n",
      "QS1821                             0.0276\n",
      "Parnassius_orleans                 0.01792\n",
      "Parnassius_honrathi                0.03123\n",
      "QS1825                             0.01972\n",
      "QS1826                             0.03388\n",
      "Archon_apollinus                   0.03581\n",
      "Luehdorfia_puziloi                 0.03646\n",
      "QS1828                             0.03093\n",
      "Sericinus_montela                  0.08969\n",
      "QS1831                             0.03039\n",
      "Zerynthia_polyxena                 0.02408\n",
      "Allancastria_cerisyi               0.02345\n",
      "QS1832                             0.01719\n",
      "Teinopalpus_imperialis             0.09583\n",
      "QS1833                             0.01405\n",
      "QS1834                             0.03412\n",
      "QS1835                             0.08774\n",
      "Battus_polydamas                   0.0359\n",
      "Battus_belus                       0.04337\n",
      "QS1836                             0.03812\n",
      "Pharmacophagus_antenor             0.07956\n",
      "QS1837                             0.03434\n",
      "QS1838                             0.00944\n",
      "QS1839                             0.00805\n",
      "Trogonoptera_brookiana             0.03698\n",
      "QS1840                             0.02241\n",
      "Troides_rhadamantus                0.02074\n",
      "Ornithoptera_richmondia            0.01965\n",
      "QS1841                             0.01338\n",
      "QS1842                             0.00564\n",
      "Euryades_corethrus                 0.04833\n",
      "QS1843                             0.01245\n",
      "Parides_agavus                     0.03072\n",
      "QS1844                             0.0108\n",
      "Parides_photinus                   0.02647\n",
      "Parides_eurimedes                  0.02819\n",
      "Cressida_cressida                  0.07354\n",
      "QS1845                             0.00935\n",
      "QS1846                             0.01879\n",
      "Byasa_alcinous                     0.02248\n",
      "QS1847                             0.0129\n",
      "Atrophaneura_semperi               0.01043\n",
      "Atrophaneura_dixoni                0.01171\n",
      "QS1848                             0.02356\n",
      "QS1849                             0.0278\n",
      "Pachliopta_aristolochiae           0.00348\n",
      "Pachliopta_kotzebuea               0.00499\n",
      "Losaria_coon                       0.02297\n",
      "QS1851                             0.02719\n",
      "QS1852                             0.05955\n",
      "QS1853                             0.00628\n",
      "QS1854                             0.03683\n",
      "Papilio_aristodemus                0.03095\n",
      "QS1855                             0.02664\n",
      "Papilio_thoas                      0.00907\n",
      "Papilio_cresphontes                0.00884\n",
      "QS1856                             0.01012\n",
      "Papilio_slateri                    0.03379\n",
      "QS1858                             0.0096\n",
      "Papilio_glaucus                    0.03012\n",
      "Papilio_troilus                    0.03835\n",
      "QS1861                             0.04588\n",
      "Papilio_gigon                      0.06457\n",
      "QS1862                             0.00747\n",
      "QS1863                             0.01789\n",
      "Papilio_xuthus                     0.03532\n",
      "QS1866                             0.02599\n",
      "Papilio_polyxenes                  0.00579\n",
      "Papilio_zelicaon                   0.00541\n",
      "QS1868                             0.03981\n",
      "Papilio_deiphobus                  0.02135\n",
      "QS1870                             0.007\n",
      "Papilio_protenor                   0.01221\n",
      "QS1871                             0.00991\n",
      "Papilio_polytes                    0.01127\n",
      "QS1872                             0.00893\n",
      "Papilio_phestus                    0.00377\n",
      "Papilio_ambrax                     0.00325\n",
      "Meandrusa_sciron                   0.09096\n"
     ]
    }
   ],
   "execution_count": 14
  },
  {
   "metadata": {
    "ExecuteTime": {
     "end_time": "2025-04-21T12:23:39.134152Z",
     "start_time": "2025-04-21T12:23:39.121084Z"
    }
   },
   "cell_type": "code",
   "source": [
    "preorder = [n for n in ptree.traverse(\"preorder\")]\n",
    "M = len(preorder)   # number of nodes in tree (including internal)\n",
    "dists = np.zeros((M))\n",
    "inds = np.zeros(N, dtype=int)\n",
    "inds_r = np.zeros(M, dtype=int)\n",
    "\n",
    "j = 0\n",
    "for i in range(M):\n",
    "    n = preorder[i]\n",
    "    dists[i:i+len(n.get_descendants())+1] += preorder[i].dist\n",
    "    if n.name[0] != 'Q':\n",
    "        inds[j] = i\n",
    "        inds_r[i] = j\n",
    "        j += 1\n",
    "\n",
    "leaves = ptree.get_leaves()\n",
    "#lca_matrix = np.zeros((N, N), dtype=int)\n",
    "Cov = np.zeros((N, N))\n",
    "\n",
    "for i in range(N):\n",
    "    for j in range(i, N):\n",
    "        ancestor = leaves[i].get_common_ancestor(leaves[j])\n",
    "        lca_ij = preorder.index(ancestor)\n",
    "        #lca_matrix[i, j] = lca_matrix[j, i] = lca_ij\n",
    "        Cov[i, j] = Cov[j, i] = dists[lca_ij]"
   ],
   "id": "5e654aa04457ead2",
   "outputs": [],
   "execution_count": 11
  },
  {
   "metadata": {
    "ExecuteTime": {
     "end_time": "2025-04-21T12:25:55.329464Z",
     "start_time": "2025-04-21T12:25:55.286848Z"
    }
   },
   "cell_type": "code",
   "source": [
    "v1 = np.ones(N)\n",
    "Cov_inv = np.linalg.inv(Cov)\n",
    "tmp = v1.T @ Cov_inv\n",
    "mle_r = ((tmp @ v1) **-1) * (tmp @ X)\n",
    "assert mle_r.shape==(d,)\n",
    "\n",
    "tmp = X - mle_r.T\n",
    "mle_R = (((N - 1) ** -1) * tmp.T) @ Cov_inv @ tmp\n",
    "assert mle_R.shape==(d,d)\n",
    "\n"
   ],
   "id": "18580a74c07c5791",
   "outputs": [],
   "execution_count": 25
  },
  {
   "metadata": {
    "ExecuteTime": {
     "end_time": "2025-04-23T10:48:50.145321Z",
     "start_time": "2025-04-23T10:48:50.142521Z"
    }
   },
   "cell_type": "code",
   "source": "not []",
   "id": "3e94206bb04dc753",
   "outputs": [
    {
     "data": {
      "text/plain": [
       "True"
      ]
     },
     "execution_count": 8,
     "metadata": {},
     "output_type": "execute_result"
    }
   ],
   "execution_count": 8
  },
  {
   "metadata": {
    "ExecuteTime": {
     "end_time": "2025-04-21T12:25:33.292061Z",
     "start_time": "2025-04-21T12:25:33.269533Z"
    }
   },
   "cell_type": "code",
   "source": [
    "#X_mean = np.mean(X,axis=0)\n",
    "evals, evecs = np.linalg.eigh(mle_R)\n",
    "X_cent = X - mle_r[None,:]"
   ],
   "id": "b28b0e9429a6871c",
   "outputs": [],
   "execution_count": 13
  },
  {
   "metadata": {
    "ExecuteTime": {
     "end_time": "2025-04-21T12:12:58.085143Z",
     "start_time": "2025-04-21T12:12:58.047664Z"
    }
   },
   "cell_type": "code",
   "source": [
    "\n",
    "\n",
    "def ppca_recon(k=2):\n",
    "    V_k = evecs[:, -k:]\n",
    "    #print(X_cent.shape,V_k.shape)\n",
    "    X_reduced = X_cent @ V_k\n",
    "    #print(X_reduced.shape)\n",
    "    X_reconstructed = X_reduced @ V_k.T + mle_r[None,:]\n",
    "    #print(X_reconstructed.shape)\n",
    "    return X_reconstructed"
   ],
   "id": "5d2d17cac686e5b7",
   "outputs": [],
   "execution_count": 9
  },
  {
   "metadata": {},
   "cell_type": "markdown",
   "source": "runtime modul",
   "id": "af1905ea21084065"
  },
  {
   "metadata": {
    "ExecuteTime": {
     "end_time": "2025-04-21T12:12:58.154484Z",
     "start_time": "2025-04-21T12:12:58.146071Z"
    }
   },
   "cell_type": "code",
   "source": [
    "for k in range(1,N+1):\n",
    "    ppca_recon(k)"
   ],
   "id": "a9422ee75ae9baa0",
   "outputs": [],
   "execution_count": 10
  }
 ],
 "metadata": {
  "kernelspec": {
   "display_name": "Python 3",
   "language": "python",
   "name": "python3"
  },
  "language_info": {
   "codemirror_mode": {
    "name": "ipython",
    "version": 2
   },
   "file_extension": ".py",
   "mimetype": "text/x-python",
   "name": "python",
   "nbconvert_exporter": "python",
   "pygments_lexer": "ipython2",
   "version": "2.7.6"
  }
 },
 "nbformat": 4,
 "nbformat_minor": 5
}
