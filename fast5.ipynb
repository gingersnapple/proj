{
 "cells": [
  {
   "metadata": {
    "ExecuteTime": {
     "end_time": "2025-04-17T18:29:37.737373Z",
     "start_time": "2025-04-17T18:29:37.643074Z"
    }
   },
   "cell_type": "code",
   "source": [
    "import numpy as np\n",
    "#import jax.numpy as jnp\n",
    "\n",
    "data = np.loadtxt(\"/var/home/luka/proj/Papilonidae_dataset_v2/Papilionidae_aligned_new.txt\", delimiter=\"\\t\").reshape((2240, 200))\n"
   ],
   "id": "ddfd97aade95b2d5",
   "outputs": [],
   "execution_count": 3
  },
  {
   "metadata": {
    "ExecuteTime": {
     "end_time": "2025-04-17T18:29:38.240255Z",
     "start_time": "2025-04-17T18:29:37.742114Z"
    }
   },
   "cell_type": "code",
   "source": [
    "from ete3 import Tree\n",
    "\n",
    "# Load the tree and get the leaf order in inorder traversal\n",
    "ptree = Tree(\"/var/home/luka/proj/Papilonidae_dataset_v2/papilionidae_tree.txt\", format=1)\n",
    "order = ptree.get_leaf_names()  # returns in-order leaves (same as pre-order when just looking at leaves)\n"
   ],
   "id": "acb7031feb6bd6ff",
   "outputs": [],
   "execution_count": 4
  },
  {
   "metadata": {
    "ExecuteTime": {
     "end_time": "2025-04-17T18:29:47.028538Z",
     "start_time": "2025-04-17T18:29:47.012581Z"
    }
   },
   "cell_type": "code",
   "source": [
    "import pandas as pd\n",
    "\n",
    "# Load categories\n",
    "categories = pd.read_csv(\"/var/home/luka/proj/Papilonidae_dataset_v2/Papilonidae_metadata_new.txt\", header=None)[0]\n",
    "\n",
    "# Create DataFrame from data\n",
    "df = pd.DataFrame(data.reshape(2240, -1))\n",
    "df['category'] = pd.Categorical(categories, categories=categories.unique())\n",
    "\n",
    "# Group by category and calculate means\n",
    "means = df.groupby('category', observed=True).mean()\n",
    "\n",
    "# Add order column based on the tree order\n",
    "df['order'] = pd.Categorical(df['category'], categories=order, ordered=True)\n",
    "\n",
    "\n",
    "# Reorder means DataFrame based on the order column\n",
    "means = means.reset_index()\n",
    "means['order'] = pd.Categorical(means['category'], categories=order, ordered=True)\n",
    "means = means.sort_values('order')\n",
    "\n",
    "# Drop unnecessary columns and convert to numpy array\n",
    "X = means.drop(columns=['category', 'order']).values\n",
    "\n",
    "N, d = X.shape"
   ],
   "id": "861d20ed5f7a6e4f",
   "outputs": [],
   "execution_count": 6
  },
  {
   "metadata": {
    "ExecuteTime": {
     "end_time": "2025-04-17T18:29:49.367745Z",
     "start_time": "2025-04-17T18:29:49.349146Z"
    }
   },
   "cell_type": "code",
   "source": [
    "D = np.zeros((N*d, d))\n",
    "\n",
    "# Create an array of indices\n",
    "i_indices = np.arange(N*d)\n",
    "j_indices = np.arange(d)\n",
    "\n",
    "# Use broadcasting to create a mask\n",
    "mask = (j_indices[:, None] * N <= i_indices) & (i_indices < (j_indices[:, None] + 1) * N)\n",
    "\n",
    "D[mask.T] = 1.0\n"
   ],
   "id": "2485c24a05e161bf",
   "outputs": [],
   "execution_count": 7
  },
  {
   "metadata": {
    "ExecuteTime": {
     "end_time": "2025-04-17T18:29:50.247573Z",
     "start_time": "2025-04-17T18:29:50.241518Z"
    }
   },
   "cell_type": "code",
   "source": [
    "preorder = [n for n in ptree.traverse(\"preorder\")]\n",
    "M = len(preorder)   # number of nodes in tree (including internal)\n",
    "dists = np.zeros((M))\n",
    "inds = np.zeros(N, dtype=int)\n",
    "inds_r = np.zeros(M, dtype=int)\n",
    "\n",
    "j = 0\n",
    "for i in range(M):\n",
    "    n = preorder[i]\n",
    "    dists[i:i+len(n.get_descendants())+1] += preorder[i].dist\n",
    "    if n.name[0] != 'Q':\n",
    "        inds[j] = i\n",
    "        inds_r[i] = j\n",
    "        j += 1\n"
   ],
   "id": "5e654aa04457ead2",
   "outputs": [],
   "execution_count": 8
  },
  {
   "metadata": {
    "ExecuteTime": {
     "end_time": "2025-04-17T18:31:37.580643Z",
     "start_time": "2025-04-17T18:31:37.562691Z"
    }
   },
   "cell_type": "code",
   "source": [
    "leaves = ptree.get_leaves()\n",
    "#lca_matrix = np.zeros((N, N), dtype=int)\n",
    "Cov = np.zeros((N, N))\n",
    "\n",
    "for i in range(N):\n",
    "    for j in range(i, N):\n",
    "        ancestor = leaves[i].get_common_ancestor(leaves[j])\n",
    "        lca_ij = preorder.index(ancestor)\n",
    "        #lca_matrix[i, j] = lca_matrix[j, i] = lca_ij\n",
    "        Cov[i, j] = Cov[j, i] = dists[lca_ij]"
   ],
   "id": "bb8e1b45e8817571",
   "outputs": [],
   "execution_count": 14
  },
  {
   "metadata": {
    "ExecuteTime": {
     "end_time": "2025-04-17T18:32:10.439719Z",
     "start_time": "2025-04-17T18:32:10.425634Z"
    }
   },
   "cell_type": "code",
   "source": [
    "v1 = np.ones(N)\n",
    "evoCov_inv = np.linalg.inv(Cov)\n",
    "tmp = v1.T @ evoCov_inv\n",
    "mle_r = ((tmp @ v1) **-1) * (tmp @ X)\n",
    "assert mle_r.shape==(d,)\n",
    "\n",
    "tmp = X - mle_r.T\n",
    "mle_R = (((N - 1) ** -1) * tmp.T) @ evoCov_inv @ tmp\n",
    "assert mle_R.shape==(d,d)"
   ],
   "id": "18580a74c07c5791",
   "outputs": [],
   "execution_count": 16
  },
  {
   "metadata": {
    "ExecuteTime": {
     "end_time": "2025-04-17T18:32:23.253284Z",
     "start_time": "2025-04-17T18:32:23.239491Z"
    }
   },
   "cell_type": "code",
   "source": [
    "X_mean = np.mean(X,axis=0)\n",
    "evals, evecs = np.linalg.eigh(Cov)\n",
    "X_cent = X - X_mean[None,:]\n",
    "\n",
    "def ppca_recon(k=2):\n",
    "    V_k = evecs[:, -k:]\n",
    "    #print(X_cent.shape,V_k.shape)\n",
    "    X_reduced = X_cent.T @ V_k\n",
    "    #print(X_reduced.shape)\n",
    "    X_reconstructed = X_reduced @ V_k.T + X_mean[:,None]\n",
    "    #print(X_reconstructed.shape)\n",
    "    return X_reconstructed"
   ],
   "id": "5d2d17cac686e5b7",
   "outputs": [],
   "execution_count": 17
  },
  {
   "metadata": {},
   "cell_type": "markdown",
   "source": "runtime modul",
   "id": "af1905ea21084065"
  },
  {
   "metadata": {
    "ExecuteTime": {
     "end_time": "2025-04-17T18:32:33.076114Z",
     "start_time": "2025-04-17T18:32:33.060310Z"
    }
   },
   "cell_type": "code",
   "source": [
    "for k in range(1,N+1):\n",
    "    ppca_recon(k)"
   ],
   "id": "a9422ee75ae9baa0",
   "outputs": [],
   "execution_count": 19
  }
 ],
 "metadata": {
  "kernelspec": {
   "display_name": "Python 3",
   "language": "python",
   "name": "python3"
  },
  "language_info": {
   "codemirror_mode": {
    "name": "ipython",
    "version": 2
   },
   "file_extension": ".py",
   "mimetype": "text/x-python",
   "name": "python",
   "nbconvert_exporter": "python",
   "pygments_lexer": "ipython2",
   "version": "2.7.6"
  }
 },
 "nbformat": 4,
 "nbformat_minor": 5
}
