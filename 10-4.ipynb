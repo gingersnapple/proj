{
 "cells": [
  {
   "cell_type": "code",
   "id": "initial_id",
   "metadata": {
    "collapsed": true,
    "ExecuteTime": {
     "end_time": "2025-04-12T13:50:55.630904Z",
     "start_time": "2025-04-12T13:50:55.485072Z"
    }
   },
   "source": [
    "import numpy as np\n",
    "\n",
    "data = np.loadtxt(\"/var/home/luka/proj/Papilonidae_dataset_v2/Papilionidae_aligned_new.txt\",delimiter=\"\\t\")\n",
    "data.shape\n"
   ],
   "outputs": [
    {
     "data": {
      "text/plain": [
       "(4480, 100)"
      ]
     },
     "execution_count": 1,
     "metadata": {},
     "output_type": "execute_result"
    }
   ],
   "execution_count": 1
  },
  {
   "metadata": {
    "ExecuteTime": {
     "end_time": "2025-04-12T13:54:33.473822Z",
     "start_time": "2025-04-12T13:54:33.470603Z"
    }
   },
   "cell_type": "code",
   "source": [
    "(a,b) = data.shape\n",
    "\n",
    "X = data.reshape((a//2,b*2))\n",
    "X.shape"
   ],
   "id": "ff56522c6792e538",
   "outputs": [
    {
     "data": {
      "text/plain": [
       "(2240, 200)"
      ]
     },
     "execution_count": 4,
     "metadata": {},
     "output_type": "execute_result"
    }
   ],
   "execution_count": 4
  }
 ],
 "metadata": {
  "kernelspec": {
   "display_name": "Python 3",
   "language": "python",
   "name": "python3"
  },
  "language_info": {
   "codemirror_mode": {
    "name": "ipython",
    "version": 2
   },
   "file_extension": ".py",
   "mimetype": "text/x-python",
   "name": "python",
   "nbconvert_exporter": "python",
   "pygments_lexer": "ipython2",
   "version": "2.7.6"
  }
 },
 "nbformat": 4,
 "nbformat_minor": 5
}
