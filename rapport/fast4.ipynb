{
 "cells": [
  {
   "metadata": {
    "ExecuteTime": {
     "end_time": "2025-04-17T16:12:03.333019Z",
     "start_time": "2025-04-17T16:12:03.196583Z"
    }
   },
   "cell_type": "code",
   "source": [
    "import numpy as np\n",
    "#import jax.numpy as jnp\n",
    "\n",
    "data = np.loadtxt(\"/var/home/luka/proj/Papilonidae_dataset_v2/Papilionidae_aligned_new.txt\",delimiter=\"\\t\").reshape((2240, 200))\n"
   ],
   "id": "ddfd97aade95b2d5",
   "outputs": [],
   "execution_count": 2
  },
  {
   "metadata": {
    "ExecuteTime": {
     "end_time": "2025-04-17T16:12:03.657160Z",
     "start_time": "2025-04-17T16:12:03.337993Z"
    }
   },
   "cell_type": "code",
   "source": [
    "from ete3 import Tree\n",
    "\n",
    "# Load the tree and get the leaf order in inorder traversal\n",
    "ptree = Tree(\"/var/home/luka/proj/Papilonidae_dataset_v2/papilionidae_tree.txt\", format=1)\n",
    "order = ptree.get_leaf_names()  # returns in-order leaves (same as pre-order when just looking at leaves)\n"
   ],
   "id": "acb7031feb6bd6ff",
   "outputs": [],
   "execution_count": 3
  },
  {
   "metadata": {
    "ExecuteTime": {
     "end_time": "2025-04-17T16:12:03.862280Z",
     "start_time": "2025-04-17T16:12:03.665961Z"
    }
   },
   "cell_type": "code",
   "source": [
    "import pandas as pd\n",
    "\n",
    "# Load categories\n",
    "categories = pd.read_csv(\"/var/home/luka/proj/Papilonidae_dataset_v2/Papilonidae_metadata_new.txt\", header=None)[0]\n",
    "\n",
    "# Create DataFrame from data\n",
    "df = pd.DataFrame(data.reshape(2240, -1))\n",
    "df['category'] = pd.Categorical(categories, categories=categories.unique())\n",
    "\n",
    "# Group by category and calculate means\n",
    "means = df.groupby('category', observed=True).mean()\n",
    "\n",
    "# Add order column based on the tree order\n",
    "df['order'] = pd.Categorical(df['category'], categories=order, ordered=True)\n",
    "\n",
    "\n",
    "# Reorder means DataFrame based on the order column\n",
    "means = means.reset_index()\n",
    "means['order'] = pd.Categorical(means['category'], categories=order, ordered=True)\n",
    "means = means.sort_values('order')\n",
    "\n",
    "# Drop unnecessary columns and convert to numpy array\n",
    "X = means.drop(columns=['category', 'order']).values\n",
    "\n",
    "N, d = X.shape"
   ],
   "id": "861d20ed5f7a6e4f",
   "outputs": [],
   "execution_count": 4
  },
  {
   "metadata": {
    "ExecuteTime": {
     "end_time": "2025-04-17T16:12:07.529457Z",
     "start_time": "2025-04-17T16:12:07.516421Z"
    }
   },
   "cell_type": "code",
   "source": [
    "D = np.zeros((N*d, d))\n",
    "\n",
    "# Create an array of indices\n",
    "i_indices = np.arange(N*d)\n",
    "j_indices = np.arange(d)\n",
    "\n",
    "# Use broadcasting to create a mask\n",
    "mask = (j_indices[:, None] * N <= i_indices) & (i_indices < (j_indices[:, None] + 1) * N)\n",
    "\n",
    "D[mask.T] = 1.0\n"
   ],
   "id": "2485c24a05e161bf",
   "outputs": [],
   "execution_count": 6
  },
  {
   "metadata": {
    "ExecuteTime": {
     "end_time": "2025-04-17T16:12:07.567336Z",
     "start_time": "2025-04-17T16:12:07.563078Z"
    }
   },
   "cell_type": "code",
   "source": [
    "preorder = [n for n in ptree.traverse(\"preorder\")]\n",
    "M = len(preorder)   # number of nodes in tree (including internal)\n",
    "\n",
    "inds = np.zeros(N, dtype=int)\n",
    "inds_r = np.negative(np.ones(M, dtype=int))\n",
    "\n",
    "dists = np.zeros((M))   # dists to root\n",
    "\n",
    "def add_to_descendants(node, ni):\n",
    "    m = len(node.get_descendants())+1\n",
    "    dists[ni:ni+m] += node.dist\n",
    "\n",
    "j = 0\n",
    "for i in range(1,M):\n",
    "    n = preorder[i]\n",
    "    add_to_descendants(n,i)\n",
    "\n",
    "    if n.name[0] != 'Q':\n",
    "        inds[j] = i\n",
    "        inds_r[i] = j\n",
    "        j += 1"
   ],
   "id": "92eb94a8dee1cbc6",
   "outputs": [],
   "execution_count": 7
  },
  {
   "metadata": {
    "ExecuteTime": {
     "end_time": "2025-04-17T16:36:31.311630Z",
     "start_time": "2025-04-17T16:36:31.308028Z"
    }
   },
   "cell_type": "code",
   "source": [
    "for m in range(M):\n",
    "    print(f'{m:<10}{dists[m]:<20f}{preorder[m].name}')"
   ],
   "id": "30551b63a836b4e",
   "outputs": [
    {
     "name": "stdout",
     "output_type": "stream",
     "text": [
      "0         0.000000            QS1803\n",
      "1         0.171100            Baronia_brevicornis\n",
      "2         0.045270            QS1804\n",
      "3         0.110570            QS1807\n",
      "4         0.195290            Iphiclides_podalirius\n",
      "5         0.123720            QS1808\n",
      "6         0.184680            QS1810\n",
      "7         0.253510            Graphium_evemon\n",
      "8         0.198370            QS1811\n",
      "9         0.253030            Graphium_sarpedon\n",
      "10        0.250250            Graphium_agamemnon\n",
      "11        0.215990            Protographium_marcellus\n",
      "12        0.065650            QS1818\n",
      "13        0.091370            QS1819\n",
      "14        0.151780            QS1820\n",
      "15        0.196220            Hypermnestra_helios\n",
      "16        0.179380            QS1821\n",
      "17        0.197300            Parnassius_orleans\n",
      "18        0.210610            Parnassius_honrathi\n",
      "19        0.111090            QS1825\n",
      "20        0.144970            QS1826\n",
      "21        0.180780            Archon_apollinus\n",
      "22        0.181430            Luehdorfia_puziloi\n",
      "23        0.142020            QS1828\n",
      "24        0.231710            Sericinus_montela\n",
      "25        0.172410            QS1831\n",
      "26        0.196490            Zerynthia_polyxena\n",
      "27        0.195860            Allancastria_cerisyi\n",
      "28        0.082840            QS1832\n",
      "29        0.178670            Teinopalpus_imperialis\n",
      "30        0.096890            QS1833\n",
      "31        0.131010            QS1834\n",
      "32        0.218750            QS1835\n",
      "33        0.254650            Battus_polydamas\n",
      "34        0.262120            Battus_belus\n",
      "35        0.169130            QS1836\n",
      "36        0.248690            Pharmacophagus_antenor\n",
      "37        0.203470            QS1837\n",
      "38        0.212910            QS1838\n",
      "39        0.220960            QS1839\n",
      "40        0.257940            Trogonoptera_brookiana\n",
      "41        0.243370            QS1840\n",
      "42        0.264110            Troides_rhadamantus\n",
      "43        0.263020            Ornithoptera_richmondia\n",
      "44        0.226290            QS1841\n",
      "45        0.231930            QS1842\n",
      "46        0.280260            Euryades_corethrus\n",
      "47        0.244380            QS1843\n",
      "48        0.275100            Parides_agavus\n",
      "49        0.255180            QS1844\n",
      "50        0.281650            Parides_photinus\n",
      "51        0.283370            Parides_eurimedes\n",
      "52        0.299830            Cressida_cressida\n",
      "53        0.212820            QS1845\n",
      "54        0.231610            QS1846\n",
      "55        0.254090            Byasa_alcinous\n",
      "56        0.244510            QS1847\n",
      "57        0.254940            Atrophaneura_semperi\n",
      "58        0.256220            Atrophaneura_dixoni\n",
      "59        0.236380            QS1848\n",
      "60        0.264180            QS1849\n",
      "61        0.267660            Pachliopta_aristolochiae\n",
      "62        0.269170            Pachliopta_kotzebuea\n",
      "63        0.259350            Losaria_coon\n",
      "64        0.124080            QS1851\n",
      "65        0.183630            QS1852\n",
      "66        0.189910            QS1853\n",
      "67        0.226740            QS1854\n",
      "68        0.257690            Papilio_aristodemus\n",
      "69        0.253380            QS1855\n",
      "70        0.262450            Papilio_thoas\n",
      "71        0.262220            Papilio_cresphontes\n",
      "72        0.200030            QS1856\n",
      "73        0.233820            Papilio_slateri\n",
      "74        0.209630            QS1858\n",
      "75        0.239750            Papilio_glaucus\n",
      "76        0.247980            Papilio_troilus\n",
      "77        0.229510            QS1861\n",
      "78        0.294080            Papilio_gigon\n",
      "79        0.236980            QS1862\n",
      "80        0.254870            QS1863\n",
      "81        0.290190            Papilio_xuthus\n",
      "82        0.280860            QS1866\n",
      "83        0.286650            Papilio_polyxenes\n",
      "84        0.286270            Papilio_zelicaon\n",
      "85        0.276790            QS1868\n",
      "86        0.298140            Papilio_deiphobus\n",
      "87        0.283790            QS1870\n",
      "88        0.296000            Papilio_protenor\n",
      "89        0.293700            QS1871\n",
      "90        0.304970            Papilio_polytes\n",
      "91        0.302630            QS1872\n",
      "92        0.306400            Papilio_phestus\n",
      "93        0.305880            Papilio_ambrax\n",
      "94        0.215040            Meandrusa_sciron\n"
     ]
    }
   ],
   "execution_count": 37
  },
  {
   "metadata": {
    "ExecuteTime": {
     "end_time": "2025-04-17T16:12:29.549838Z",
     "start_time": "2025-04-17T16:12:29.543156Z"
    }
   },
   "cell_type": "code",
   "source": [
    "\n",
    "# Step 1: Euler Tour and Depth Array\n",
    "def euler_tour(node):\n",
    "    global euler, depth, first_occurrence, current_depth\n",
    "    euler = []\n",
    "    depth = []\n",
    "    first_occurrence = {}\n",
    "    current_depth = 0\n",
    "\n",
    "    def euler_tour_rec(node):\n",
    "        global euler, depth, first_occurrence, current_depth\n",
    "        euler.append(node)\n",
    "        depth.append(current_depth)\n",
    "        if node not in first_occurrence:\n",
    "            first_occurrence[node] = len(euler) - 1\n",
    "            #print(first_occurrence)\n",
    "        current_depth += 1\n",
    "        for child in node.children:\n",
    "            euler_tour_rec(child)\n",
    "            euler.append(node)\n",
    "            depth.append(current_depth)\n",
    "        current_depth -= 1\n",
    "\n",
    "    euler_tour_rec(node)\n",
    "    #return euler, depth, first_occurrence\n",
    "\n",
    "# Step 2: Build Segment Tree for RMQ\n",
    "def build_segment_tree():\n",
    "    global st, depth, n\n",
    "    n = len(depth)\n",
    "    st = [0] * (2 * n)\n",
    "    for i in range(n):\n",
    "        st[n + i] = i\n",
    "    for i in range(n - 1, 0, -1):\n",
    "        if depth[st[i * 2]] < depth[st[i * 2 + 1]]:\n",
    "            st[i] = st[i * 2]\n",
    "        else:\n",
    "            st[i] = st[i * 2 + 1]\n",
    "    #return st\n",
    "\n",
    "def rmq(l, r):\n",
    "    global st, depth, n\n",
    "    res = l\n",
    "    while l < r:\n",
    "        if l % 2:\n",
    "            if depth[st[l]] < depth[st[res]]:\n",
    "                res = st[l]\n",
    "            l += 1\n",
    "        if r % 2:\n",
    "            r -= 1\n",
    "            if depth[st[r]] < depth[st[res]]:\n",
    "                res = st[r]\n",
    "        l //= 2\n",
    "        r //= 2\n",
    "    return res\n",
    "\n",
    "# Step 3: LCA Query\n",
    "def lca(u, v):\n",
    "    global first_occurrence, euler, depth, n, st\n",
    "    if first_occurrence[u] > first_occurrence[v]:\n",
    "        u, v = v, u\n",
    "    l = first_occurrence[u]\n",
    "    r = first_occurrence[v]\n",
    "    #print(f\"l: {l}, r: {r}\")  # Debugging statement\n",
    "    index = rmq(l+n, r+n+1) - n\n",
    "    #print(f\"index: {index}\")  # Debugging statement\n",
    "    return euler[index]\n"
   ],
   "id": "b7005b7c881c1028",
   "outputs": [],
   "execution_count": 9
  },
  {
   "metadata": {
    "ExecuteTime": {
     "end_time": "2025-04-17T16:18:53.269004Z",
     "start_time": "2025-04-17T16:18:53.260411Z"
    }
   },
   "cell_type": "code",
   "source": [
    "global euler, depth, first_occurrence, current_depth\n",
    "euler = depth = first_occurrence = current_depth = None\n",
    "\n",
    "leaves = ptree.get_leaves()\n",
    "#euler, depth, first_occurrence = euler_tour(ptree)\n",
    "#st = build_segment_tree(depth)\n",
    "\n",
    "euler_tour(ptree)\n",
    "build_segment_tree()\n",
    "#print(depth)\n",
    "\n",
    "lca_matrix = np.zeros((N, N), dtype=int)\n",
    "lca2r_dists = np.zeros((N, N))\n",
    "\n",
    "for i in range(N):\n",
    "    for j in range(i, N):\n",
    "        ancestor = lca(leaves[i], leaves[j])\n",
    "        lca_ij = preorder.index(ancestor)\n",
    "        lca_matrix[i, j] = lca_matrix[j, i] = lca_ij\n",
    "        lca2r_dists[i, j] = lca2r_dists[j, i] = dists[lca_ij]\n",
    "        #if i == j:\n",
    "        #    print(i, lca_ij, inds_r[i])\n",
    "\n",
    "\n",
    "np.max(lca_matrix), M\n",
    "#for i in range(N):\n",
    "#    print(i, '\\t',lca_matrix[i, i],'\\t',preorder.index(preorder[i]))\n"
   ],
   "id": "bb8e1b45e8817571",
   "outputs": [
    {
     "data": {
      "text/plain": [
       "(94, 95)"
      ]
     },
     "execution_count": 19,
     "metadata": {},
     "output_type": "execute_result"
    }
   ],
   "execution_count": 19
  },
  {
   "metadata": {
    "ExecuteTime": {
     "end_time": "2025-04-17T16:29:57.766667Z",
     "start_time": "2025-04-17T16:29:57.762323Z"
    }
   },
   "cell_type": "code",
   "source": [
    "for n in range(N):\n",
    "    node = leaves[n]\n",
    "    print(f'{n:<10}{node.name == lca(node,node).name}')\n",
    "    #print(f'{n:<10}{lca_matrix[n,n]}')"
   ],
   "id": "ed26e0ed7a8355a",
   "outputs": [
    {
     "name": "stdout",
     "output_type": "stream",
     "text": [
      "0         True\n",
      "1         True\n",
      "2         True\n",
      "3         True\n",
      "4         True\n",
      "5         True\n",
      "6         True\n",
      "7         True\n",
      "8         True\n",
      "9         True\n",
      "10        True\n",
      "11        True\n",
      "12        True\n",
      "13        True\n",
      "14        True\n",
      "15        True\n",
      "16        True\n",
      "17        True\n",
      "18        True\n",
      "19        True\n",
      "20        True\n",
      "21        True\n",
      "22        True\n",
      "23        True\n",
      "24        True\n",
      "25        True\n",
      "26        True\n",
      "27        True\n",
      "28        True\n",
      "29        True\n",
      "30        True\n",
      "31        True\n",
      "32        True\n",
      "33        True\n",
      "34        True\n",
      "35        True\n",
      "36        True\n",
      "37        True\n",
      "38        True\n",
      "39        True\n",
      "40        True\n",
      "41        True\n",
      "42        True\n",
      "43        True\n",
      "44        True\n",
      "45        True\n",
      "46        True\n",
      "47        True\n"
     ]
    }
   ],
   "execution_count": 30
  },
  {
   "metadata": {
    "ExecuteTime": {
     "end_time": "2025-04-17T14:14:24.344308Z",
     "start_time": "2025-04-17T14:14:24.339262Z"
    }
   },
   "cell_type": "code",
   "source": [
    "for i in range(M):\n",
    "    name = preorder[i].name\n",
    "    j = inds_r[i]\n",
    "    extra = \"\" if j < 0 else j\n",
    "    print(f'{name:<25}{dists[i]:<10f}{extra}')"
   ],
   "id": "71444a965e6ddd69",
   "outputs": [
    {
     "name": "stdout",
     "output_type": "stream",
     "text": [
      "QS1803                   0.000000  \n",
      "Baronia_brevicornis      0.171100  0\n",
      "QS1804                   0.045270  \n",
      "QS1807                   0.110570  \n",
      "Iphiclides_podalirius    0.195290  1\n",
      "QS1808                   0.123720  \n",
      "QS1810                   0.184680  \n",
      "Graphium_evemon          0.253510  2\n",
      "QS1811                   0.198370  \n",
      "Graphium_sarpedon        0.253030  3\n",
      "Graphium_agamemnon       0.250250  4\n",
      "Protographium_marcellus  0.215990  5\n",
      "QS1818                   0.065650  \n",
      "QS1819                   0.091370  \n",
      "QS1820                   0.151780  \n",
      "Hypermnestra_helios      0.196220  6\n",
      "QS1821                   0.179380  \n",
      "Parnassius_orleans       0.197300  7\n",
      "Parnassius_honrathi      0.210610  8\n",
      "QS1825                   0.111090  \n",
      "QS1826                   0.144970  \n",
      "Archon_apollinus         0.180780  9\n",
      "Luehdorfia_puziloi       0.181430  10\n",
      "QS1828                   0.142020  \n",
      "Sericinus_montela        0.231710  11\n",
      "QS1831                   0.172410  \n",
      "Zerynthia_polyxena       0.196490  12\n",
      "Allancastria_cerisyi     0.195860  13\n",
      "QS1832                   0.082840  \n",
      "Teinopalpus_imperialis   0.178670  14\n",
      "QS1833                   0.096890  \n",
      "QS1834                   0.131010  \n",
      "QS1835                   0.218750  \n",
      "Battus_polydamas         0.254650  15\n",
      "Battus_belus             0.262120  16\n",
      "QS1836                   0.169130  \n",
      "Pharmacophagus_antenor   0.248690  17\n",
      "QS1837                   0.203470  \n",
      "QS1838                   0.212910  \n",
      "QS1839                   0.220960  \n",
      "Trogonoptera_brookiana   0.257940  18\n",
      "QS1840                   0.243370  \n",
      "Troides_rhadamantus      0.264110  19\n",
      "Ornithoptera_richmondia  0.263020  20\n",
      "QS1841                   0.226290  \n",
      "QS1842                   0.231930  \n",
      "Euryades_corethrus       0.280260  21\n",
      "QS1843                   0.244380  \n",
      "Parides_agavus           0.275100  22\n",
      "QS1844                   0.255180  \n",
      "Parides_photinus         0.281650  23\n",
      "Parides_eurimedes        0.283370  24\n",
      "Cressida_cressida        0.299830  25\n",
      "QS1845                   0.212820  \n",
      "QS1846                   0.231610  \n",
      "Byasa_alcinous           0.254090  26\n",
      "QS1847                   0.244510  \n",
      "Atrophaneura_semperi     0.254940  27\n",
      "Atrophaneura_dixoni      0.256220  28\n",
      "QS1848                   0.236380  \n",
      "QS1849                   0.264180  \n",
      "Pachliopta_aristolochiae 0.267660  29\n",
      "Pachliopta_kotzebuea     0.269170  30\n",
      "Losaria_coon             0.259350  31\n",
      "QS1851                   0.124080  \n",
      "QS1852                   0.183630  \n",
      "QS1853                   0.189910  \n",
      "QS1854                   0.226740  \n",
      "Papilio_aristodemus      0.257690  32\n",
      "QS1855                   0.253380  \n",
      "Papilio_thoas            0.262450  33\n",
      "Papilio_cresphontes      0.262220  34\n",
      "QS1856                   0.200030  \n",
      "Papilio_slateri          0.233820  35\n",
      "QS1858                   0.209630  \n",
      "Papilio_glaucus          0.239750  36\n",
      "Papilio_troilus          0.247980  37\n",
      "QS1861                   0.229510  \n",
      "Papilio_gigon            0.294080  38\n",
      "QS1862                   0.236980  \n",
      "QS1863                   0.254870  \n",
      "Papilio_xuthus           0.290190  39\n",
      "QS1866                   0.280860  \n",
      "Papilio_polyxenes        0.286650  40\n",
      "Papilio_zelicaon         0.286270  41\n",
      "QS1868                   0.276790  \n",
      "Papilio_deiphobus        0.298140  42\n",
      "QS1870                   0.283790  \n",
      "Papilio_protenor         0.296000  43\n",
      "QS1871                   0.293700  \n",
      "Papilio_polytes          0.304970  44\n",
      "QS1872                   0.302630  \n",
      "Papilio_phestus          0.306400  45\n",
      "Papilio_ambrax           0.305880  46\n",
      "Meandrusa_sciron         0.215040  47\n"
     ]
    }
   ],
   "execution_count": 133
  },
  {
   "metadata": {
    "ExecuteTime": {
     "end_time": "2025-04-17T13:23:41.075173Z",
     "start_time": "2025-04-17T13:23:40.985198Z"
    }
   },
   "cell_type": "code",
   "source": [
    "\n",
    "def ecov(a,b):\n",
    "    na,nb = order[a],order[b]\n",
    "    if a == b:\n",
    "        mrca = a\n",
    "    else:\n",
    "        mrca = ptree.get_common_ancestor(na,nb)\n",
    "\n",
    "    dist = dists[mrca]\n",
    "\n",
    "    return dist\n",
    "\n",
    "Cov = np.empty((N,N))\n",
    "\n",
    "for i in range(N):\n",
    "    for j in range(N):\n",
    "        Cov[i,j] = ecov(i,j)\n",
    "\n",
    "\n"
   ],
   "id": "c4ee1cf8ec3ef71c",
   "outputs": [],
   "execution_count": 87
  },
  {
   "metadata": {
    "ExecuteTime": {
     "end_time": "2025-04-15T14:24:58.601062Z",
     "start_time": "2025-04-15T14:24:58.596917Z"
    }
   },
   "cell_type": "code",
   "source": [
    "ls = ptree.get_leaves()\n",
    "#print(ls[0], type(ls))\n",
    "i = 0\n",
    "for n in ptree.traverse(\"preorder\"):\n",
    "    na = n.name\n",
    "    m = ls[i]\n",
    "    if na[0] != 'Q':\n",
    "        print(na)\n",
    "        #lna = ls[i]\n",
    "        #print(na,'\\t',rna,'\\t',na == rna)\n",
    "        #print(f'{na:_<30}{len(n.get_ancestors())}')#{lna:_<40}{na==lna}')\n",
    "        i += 1\n"
   ],
   "id": "56b41b8c1d0aad82",
   "outputs": [
    {
     "name": "stdout",
     "output_type": "stream",
     "text": [
      "Baronia_brevicornis\n",
      "Iphiclides_podalirius\n",
      "Graphium_evemon\n",
      "Graphium_sarpedon\n",
      "Graphium_agamemnon\n",
      "Protographium_marcellus\n",
      "Hypermnestra_helios\n",
      "Parnassius_orleans\n",
      "Parnassius_honrathi\n",
      "Archon_apollinus\n",
      "Luehdorfia_puziloi\n",
      "Sericinus_montela\n",
      "Zerynthia_polyxena\n",
      "Allancastria_cerisyi\n",
      "Teinopalpus_imperialis\n",
      "Battus_polydamas\n",
      "Battus_belus\n",
      "Pharmacophagus_antenor\n",
      "Trogonoptera_brookiana\n",
      "Troides_rhadamantus\n",
      "Ornithoptera_richmondia\n",
      "Euryades_corethrus\n",
      "Parides_agavus\n",
      "Parides_photinus\n",
      "Parides_eurimedes\n",
      "Cressida_cressida\n",
      "Byasa_alcinous\n",
      "Atrophaneura_semperi\n",
      "Atrophaneura_dixoni\n",
      "Pachliopta_aristolochiae\n",
      "Pachliopta_kotzebuea\n",
      "Losaria_coon\n",
      "Papilio_aristodemus\n",
      "Papilio_thoas\n",
      "Papilio_cresphontes\n",
      "Papilio_slateri\n",
      "Papilio_glaucus\n",
      "Papilio_troilus\n",
      "Papilio_gigon\n",
      "Papilio_xuthus\n",
      "Papilio_polyxenes\n",
      "Papilio_zelicaon\n",
      "Papilio_deiphobus\n",
      "Papilio_protenor\n",
      "Papilio_polytes\n",
      "Papilio_phestus\n",
      "Papilio_ambrax\n",
      "Meandrusa_sciron\n"
     ]
    }
   ],
   "execution_count": 60
  },
  {
   "metadata": {
    "ExecuteTime": {
     "end_time": "2025-04-15T15:32:09.891177Z",
     "start_time": "2025-04-15T15:32:09.888872Z"
    }
   },
   "cell_type": "code",
   "source": "N",
   "id": "a15472c3e0340a96",
   "outputs": [
    {
     "data": {
      "text/plain": [
       "48"
      ]
     },
     "execution_count": 91,
     "metadata": {},
     "output_type": "execute_result"
    }
   ],
   "execution_count": 91
  },
  {
   "metadata": {
    "ExecuteTime": {
     "end_time": "2025-04-12T14:17:31.256045Z",
     "start_time": "2025-04-12T14:17:31.030195Z"
    }
   },
   "cell_type": "code",
   "source": [
    "v1 = jnp.ones(N)\n",
    "evoCov_inv = jnp.linalg.inv(Cov)\n",
    "tmp = v1.T @ evoCov_inv\n",
    "mle_r = ((tmp @ v1) **-1) * (tmp @ X)\n",
    "assert mle_r.shape==(d,)\n",
    "\n",
    "tmp = X - mle_r.T\n",
    "mle_R = (((N - 1) ** -1) * tmp.T) @ evoCov_inv @ tmp\n",
    "assert mle_R.shape==(d,d)"
   ],
   "id": "18580a74c07c5791",
   "outputs": [],
   "execution_count": 61
  },
  {
   "metadata": {
    "ExecuteTime": {
     "end_time": "2025-04-12T14:17:32.399822Z",
     "start_time": "2025-04-12T14:17:32.327457Z"
    }
   },
   "cell_type": "code",
   "source": [
    "X_mean = jnp.mean(X,axis=0)\n",
    "evals, evecs = jnp.linalg.eigh(Cov)\n",
    "X_cent = X - X_mean[None,:]\n",
    "\n",
    "def ppca_recon(k=2):\n",
    "    V_k = evecs[:, -k:]\n",
    "    #print(X_cent.shape,V_k.shape)\n",
    "    X_reduced = X_cent.T @ V_k\n",
    "    #print(X_reduced.shape)\n",
    "    X_reconstructed = X_reduced @ V_k.T + X_mean[:,None]\n",
    "    #print(X_reconstructed.shape)\n",
    "    return X_reconstructed"
   ],
   "id": "5d2d17cac686e5b7",
   "outputs": [],
   "execution_count": 62
  },
  {
   "metadata": {},
   "cell_type": "markdown",
   "source": "runtime modul",
   "id": "af1905ea21084065"
  },
  {
   "metadata": {
    "ExecuteTime": {
     "end_time": "2025-04-12T14:18:49.946489Z",
     "start_time": "2025-04-12T14:18:49.932659Z"
    }
   },
   "cell_type": "code",
   "source": [
    "for k in range(1,N+1):\n",
    "    ppca_recon(k)"
   ],
   "id": "a9422ee75ae9baa0",
   "outputs": [],
   "execution_count": 64
  }
 ],
 "metadata": {
  "kernelspec": {
   "display_name": "Python 3",
   "language": "python",
   "name": "python3"
  },
  "language_info": {
   "codemirror_mode": {
    "name": "ipython",
    "version": 2
   },
   "file_extension": ".py",
   "mimetype": "text/x-python",
   "name": "python",
   "nbconvert_exporter": "python",
   "pygments_lexer": "ipython2",
   "version": "2.7.6"
  }
 },
 "nbformat": 4,
 "nbformat_minor": 5
}
